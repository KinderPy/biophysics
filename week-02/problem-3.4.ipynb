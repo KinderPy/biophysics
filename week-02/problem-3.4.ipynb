{
 "cells": [
  {
   "cell_type": "markdown",
   "id": "5412ca32",
   "metadata": {},
   "source": [
    "# Problem 3.4\n",
    "\n",
    "This problem explores the \"Gambler's Fallacy\" --- the idea that after a string of losses, you are \"due\" for a win.\n",
    "\n",
    "We will represent __heads__ by $+1$ and __tails__ by $-1$.  The variable $X$ is the sum of ten such flips of a coin: the number of heads minus the number of tails."
   ]
  },
  {
   "cell_type": "code",
   "execution_count": 1,
   "id": "8248ee95",
   "metadata": {},
   "outputs": [],
   "source": [
    "# Standard setup\n",
    "import numpy as np\n",
    "import matplotlib.pyplot as plt\n",
    "\n",
    "# Get a random number generator.\n",
    "from numpy.random import default_rng\n",
    "rng = default_rng()\n",
    "rand = rng.random"
   ]
  },
  {
   "cell_type": "markdown",
   "id": "9efb4a03",
   "metadata": {},
   "source": [
    "Verify that the following code generates a sequence of 10 flips, as described in the problem.  Briefly explain how it works.\n",
    "\n",
    "-----"
   ]
  },
  {
   "cell_type": "code",
   "execution_count": 39,
   "id": "0bfd145a",
   "metadata": {},
   "outputs": [
    {
     "name": "stdout",
     "output_type": "stream",
     "text": [
      "Coin flips:  [ 1  1  1  1  1 -1  1  1  1 -1]\n",
      "Sum: X= 6\n",
      "[1 1 1 1 1]\n",
      "5\n",
      "The sum of the first 5 elements was 5!\n"
     ]
    }
   ],
   "source": [
    "flips = 2*(rand(10) < 0.5) - 1\n",
    "X = flips.sum()\n",
    "\n",
    "print(\"Coin flips: \", flips)\n",
    "print(\"Sum: X=\", X)\n",
    "\n",
    "print(flips[:5])\n",
    "print(sum(flips[:5]))\n",
    "\n",
    "if sum(flips[:5]) == 5:\n",
    "    print(\"The sum of the first 5 elements was 5!\")"
   ]
  },
  {
   "cell_type": "markdown",
   "id": "a06734d6",
   "metadata": {},
   "source": []
  },
  {
   "cell_type": "markdown",
   "id": "034186de",
   "metadata": {},
   "source": [
    "------\n",
    "\n",
    "## (a)\n",
    "\n",
    "Fill in the necessary Python code below."
   ]
  },
  {
   "cell_type": "code",
   "execution_count": 51,
   "id": "62ca501f",
   "metadata": {},
   "outputs": [
    {
     "name": "stdout",
     "output_type": "stream",
     "text": [
      "There were 51 trials that started with 5 heads.\n",
      "The average of X for these trials was <X>= 4.9804.\n"
     ]
    }
   ],
   "source": [
    "# Define the problem.\n",
    "Ntrials = 2000\n",
    "Nflips = 10\n",
    "Nstart = 5\n",
    "\n",
    "# Create an array to store the data we want.\n",
    "data = np.zeros(Ntrials)\n",
    "count = 0\n",
    "\n",
    "# Generate Ntrials sequences of Nflips coin flips, and sum.\n",
    "for n in range(Ntrials):\n",
    "    flips = 2*(rand(Nflips) < 0.5) - 1\n",
    "    X = flips.sum()\n",
    "    \n",
    "    # Replace \"if True:\" with a conditional statement that will do the following.\n",
    "    #    IF the first Nstart flips are heads, store X in \"data\" and increment \"count\".\n",
    "    #    OTHERWISE, do nothing and continue to the next trial.\n",
    "    if sum(flips[:5]) == 5:\n",
    "        data[count] = X\n",
    "        count += 1  # Means the same thing as \"count = count + 1\"\n",
    "\n",
    "# Now use the data set to answer the question.\n",
    "if count == 0:\n",
    "    print(\"No trials started with {} heads.\".format(Nstart))\n",
    "else:\n",
    "    avgX = data[:count].sum() / count\n",
    "    print (\"There were {} trials that started with {} heads.\".format(count,Nstart))\n",
    "    print(\"The average of X for these trials was <X>= {:.4f}.\".format(avgX))\n"
   ]
  },
  {
   "cell_type": "code",
   "execution_count": 61,
   "id": "67f3381b",
   "metadata": {},
   "outputs": [
    {
     "name": "stdout",
     "output_type": "stream",
     "text": [
      "0 1 1\n",
      "1 2 2\n",
      "2 4 1\n",
      "3 8 2\n",
      "4 16 1\n",
      "5 32 2\n",
      "6 64 1\n",
      "7 128 2\n",
      "8 256 1\n",
      "9 512 2\n"
     ]
    }
   ],
   "source": [
    "b = 1\n",
    "for n in range(10):\n",
    "    print(n,b, b%3)\n",
    "    b *= 2"
   ]
  },
  {
   "cell_type": "code",
   "execution_count": 70,
   "id": "079d2760",
   "metadata": {},
   "outputs": [
    {
     "name": "stdout",
     "output_type": "stream",
     "text": [
      "[0, 1, 2, 3, 4, 5, 6, 7, 8, 9, 10, 11, 12, 13, 14, 15, 16, 17, 18, 19, 20, 21, 22, 23, 24, 25, 26, 27, 28, 29, 30, 31, 32, 33, 34, 35, 36, 37, 38, 39, 40, 41, 42, 43, 44, 45, 46, 47, 48, 49, 50, 51, 52, 53, 54, 55, 56, 57, 58, 59, 60, 61, 62, 63, 64, 65, 66, 67, 68, 69, 70, 71, 72, 73, 74, 75, 76, 77, 78, 79, 80, 81, 82, 83, 84, 85, 86, 87, 88, 89, 90, 91, 92, 93, 94, 95, 96, 97, 98, 99]\n"
     ]
    }
   ],
   "source": [
    "z = []\n",
    "Z = np.zeros(10)\n",
    "\n",
    "for n in range(100):\n",
    "    z += [n]\n",
    "\n",
    "print(z)\n",
    "np.mean(z)\n",
    "np.cos(z);"
   ]
  },
  {
   "cell_type": "code",
   "execution_count": 65,
   "id": "b11301af",
   "metadata": {},
   "outputs": [
    {
     "name": "stdout",
     "output_type": "stream",
     "text": [
      "[0. 1. 2. 3. 4. 5. 6. 7. 8. 9.]\n",
      "[0, 1, 2, 3, 4, 5, 6, 7, 8, 9, 10]\n"
     ]
    }
   ],
   "source": [
    "print(Z)\n",
    "print(z)"
   ]
  },
  {
   "cell_type": "markdown",
   "id": "a568067f",
   "metadata": {},
   "source": [
    "Run your code several times.  What patterns do you observe?\n",
    "\n",
    "-----"
   ]
  },
  {
   "cell_type": "markdown",
   "id": "c021f245",
   "metadata": {},
   "source": []
  },
  {
   "cell_type": "markdown",
   "id": "d0a59d2d",
   "metadata": {},
   "source": [
    "-----\n",
    "\n",
    "## (b)\n",
    "\n",
    "Repeat for `Ntrials = 2000` and `Ntrials = 8000`.\n",
    "\n",
    "> Does the answer seem to be converging to zero, as predicted in the quoted text above? Whatever your answer, give some explanation for why the answer you found should have been expected.\n",
    "\n",
    "-----"
   ]
  },
  {
   "cell_type": "markdown",
   "id": "39fe4cef",
   "metadata": {},
   "source": []
  },
  {
   "cell_type": "markdown",
   "id": "86ce2eec",
   "metadata": {},
   "source": [
    "-----\n",
    "\n",
    "## (c)\n",
    "\n",
    "Explore regression to the mean, as described in the problem text."
   ]
  },
  {
   "cell_type": "code",
   "execution_count": null,
   "id": "aa170fae",
   "metadata": {},
   "outputs": [],
   "source": []
  },
  {
   "cell_type": "markdown",
   "id": "2d3b3ac6",
   "metadata": {},
   "source": [
    "Comment on your observations.\n",
    "\n",
    "-----"
   ]
  },
  {
   "cell_type": "markdown",
   "id": "4a59cb3c",
   "metadata": {},
   "source": []
  },
  {
   "cell_type": "markdown",
   "id": "ae008467",
   "metadata": {},
   "source": [
    "-----\n",
    "\n",
    "## (d)\n",
    "\n",
    "Evaluate the ___spread___ of $X$ for large numbers of trials, as described in the text."
   ]
  },
  {
   "cell_type": "code",
   "execution_count": 59,
   "id": "bfbc55ba",
   "metadata": {},
   "outputs": [
    {
     "name": "stdout",
     "output_type": "stream",
     "text": [
      "X= 0.4927 +/- 0.289745\n"
     ]
    },
    {
     "data": {
      "text/plain": [
       "0.28974499630086853"
      ]
     },
     "execution_count": 59,
     "metadata": {},
     "output_type": "execute_result"
    }
   ],
   "source": [
    "X = rand(1000)\n",
    "print(\"X= {:.4f} +/- {:4f}\".format(X.mean(), X.std()))\n",
    "np.std(X)"
   ]
  },
  {
   "cell_type": "markdown",
   "id": "365cdafe",
   "metadata": {},
   "source": [
    "Comment on your observations.\n",
    "\n",
    "-----"
   ]
  },
  {
   "cell_type": "markdown",
   "id": "735adef2",
   "metadata": {},
   "source": []
  },
  {
   "cell_type": "markdown",
   "id": "a87f68ee",
   "metadata": {},
   "source": [
    "_____\n",
    "\n",
    "## (e)\n",
    "\n",
    "Discuss which proposition better describes your findings.\n",
    "\n",
    "> If the first N flips are heads, the next series flips will be more than half tails, in order to pull X closer to zero, because X ‘wants’ to be zero on average.\n",
    "\n",
    "... or ...\n",
    "\n",
    "> The effect of unusual past behavior doesn’t disappear; it just gets diluted as time goes on.\n",
    "\n",
    "-----"
   ]
  },
  {
   "cell_type": "markdown",
   "id": "b6261c64",
   "metadata": {},
   "source": []
  },
  {
   "cell_type": "code",
   "execution_count": 78,
   "id": "9cc7c1d1",
   "metadata": {},
   "outputs": [
    {
     "name": "stdout",
     "output_type": "stream",
     "text": [
      "The number of flips was  10\n",
      "There were 162 trials that started with 5 heads.\n",
      "The average of X for these trials was <X>= 5.0247.\n",
      "The number of flips was  20\n",
      "There were 166 trials that started with 5 heads.\n",
      "The average of X for these trials was <X>= 4.9880.\n",
      "The number of flips was  100\n",
      "There were 160 trials that started with 5 heads.\n",
      "The average of X for these trials was <X>= 6.2875.\n",
      "The number of flips was  500\n",
      "There were 180 trials that started with 5 heads.\n",
      "The average of X for these trials was <X>= 1.8444.\n",
      "The number of flips was  1000\n",
      "There were 159 trials that started with 5 heads.\n",
      "The average of X for these trials was <X>= 1.5975.\n",
      "The number of flips was  2500\n",
      "There were 149 trials that started with 5 heads.\n",
      "The average of X for these trials was <X>= 6.4027.\n",
      "The number of flips was  100000\n",
      "There were 162 trials that started with 5 heads.\n",
      "The average of X for these trials was <X>= -9.9630.\n"
     ]
    }
   ],
   "source": [
    "# Define the problem.\n",
    "Ntrials = 5000\n",
    "Nstart = 5\n",
    "\n",
    "Nvalues = [10, 20, 100, 500, 1000, 2500, 100000]\n",
    "Nflips = 10\n",
    "\n",
    "for Nflips in Nvalues:\n",
    "    # Create an array to store the data we want.\n",
    "    data = np.zeros(Ntrials)\n",
    "    count = 0\n",
    "\n",
    "    # Generate Ntrials sequences of Nflips coin flips, and sum.\n",
    "    for n in range(Ntrials):\n",
    "        flips = 2*(rand(Nflips) < 0.5) - 1\n",
    "        X = flips.sum()\n",
    "\n",
    "        # Replace \"if True:\" with a conditional statement that will do the following.\n",
    "        #    IF the first Nstart flips are heads, store X in \"data\" and increment \"count\".\n",
    "        #    OTHERWISE, do nothing and continue to the next trial.\n",
    "        if sum(flips[:5]) == 5:\n",
    "            data[count] = X\n",
    "            count += 1  # Means the same thing as \"count = count + 1\"\n",
    "\n",
    "    # Now use the data set to answer the question.\n",
    "    if count == 0:\n",
    "        print(\"No trials started with {} heads.\".format(Nstart))\n",
    "    else:\n",
    "        avgX = data[:count].sum() / count\n",
    "        print(\"The number of flips was \", Nflips)\n",
    "        print (\"There were {} trials that started with {} heads.\".format(count,Nstart))\n",
    "        print(\"The average of X for these trials was <X>= {:.4f}.\".format(avgX))\n"
   ]
  }
 ],
 "metadata": {
  "kernelspec": {
   "display_name": "Python 3 (ipykernel)",
   "language": "python",
   "name": "python3"
  },
  "language_info": {
   "codemirror_mode": {
    "name": "ipython",
    "version": 3
   },
   "file_extension": ".py",
   "mimetype": "text/x-python",
   "name": "python",
   "nbconvert_exporter": "python",
   "pygments_lexer": "ipython3",
   "version": "3.9.7"
  }
 },
 "nbformat": 4,
 "nbformat_minor": 5
}
